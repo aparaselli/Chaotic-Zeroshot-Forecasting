{
 "cells": [
  {
   "cell_type": "code",
   "execution_count": null,
   "id": "003b3e48-74c3-4510-b080-ed9b2d2f4125",
   "metadata": {},
   "outputs": [],
   "source": [
    "import pandas as pd\n",
    "import numpy as np"
   ]
  },
  {
   "cell_type": "code",
   "execution_count": null,
   "id": "575c62aa-2210-4db8-98cf-0d09c739f5d0",
   "metadata": {},
   "outputs": [],
   "source": [
    "df = pd.read_csv('../Data/RIU_Plankton.csv', delimiter=';', low_memory=False, on_bad_lines='skip')\n",
    "df = df.iloc[1:]\n",
    "df['Total abundance'] = df['Total abundance'].str.replace(',', '.')\n",
    "df"
   ]
  },
  {
   "cell_type": "code",
   "execution_count": null,
   "id": "b8980ae1-d36c-416e-b4a3-9155dbbbdb08",
   "metadata": {},
   "outputs": [],
   "source": [
    "df_cnts = df.isna().sum().sort_values() #NO NAN Values"
   ]
  },
  {
   "cell_type": "code",
   "execution_count": null,
   "id": "34c9e670-7a3e-4781-8534-ffcef44fa9ab",
   "metadata": {},
   "outputs": [],
   "source": [
    "df = df[['DATE','Total abundance']]\n",
    "df"
   ]
  },
  {
   "cell_type": "code",
   "execution_count": null,
   "id": "166c776b-6a19-46ab-9080-3ee33e0f34d2",
   "metadata": {},
   "outputs": [],
   "source": [
    "#Convert to date time \n",
    "df['DATE'] = pd.to_datetime(df['DATE'].astype(str),  format='mixed', dayfirst=True, errors='coerce')\n",
    "df"
   ]
  },
  {
   "cell_type": "code",
   "execution_count": null,
   "id": "7bf389e7-7766-41be-bd21-57afb27212ff",
   "metadata": {},
   "outputs": [],
   "source": [
    "#Days between observations\n",
    "diffs = df['DATE'].diff().reset_index().drop(columns = ['index']).apply(lambda val: val.DATE.days, axis = 1)\n",
    "diffs.plot()\n",
    "#diffs"
   ]
  },
  {
   "cell_type": "code",
   "execution_count": null,
   "id": "ff884113-b5e3-497a-b32c-d9bd7c465fa2",
   "metadata": {},
   "outputs": [],
   "source": [
    "df['YearMonth'] = df['DATE'].dt.to_period('M')\n",
    "df.groupby('YearMonth').count()"
   ]
  },
  {
   "cell_type": "code",
   "execution_count": null,
   "id": "5d4523c5-d20d-488e-8dbb-50c2503bcab5",
   "metadata": {},
   "outputs": [],
   "source": [
    "df = df[df['Total abundance'] != 'NO SAMPLES PRESERVED']\n",
    "df['Total abundance'] = df['Total abundance'].astype(float)\n",
    "df = df.groupby('YearMonth').mean()"
   ]
  },
  {
   "cell_type": "code",
   "execution_count": null,
   "id": "204dc206-7c4a-4d06-b581-ec727ff8ddd5",
   "metadata": {},
   "outputs": [],
   "source": [
    "full_range = pd.period_range(start=\"1999-01\", end=\"2025-01\", freq=\"M\")\n",
    "missing_months = full_range.difference(df.index)\n",
    "print(missing_months)"
   ]
  },
  {
   "cell_type": "code",
   "execution_count": null,
   "id": "7e46091b-5138-4f8b-a47b-e4935eccdeee",
   "metadata": {},
   "outputs": [],
   "source": [
    "df[['Total abundance']].plot()"
   ]
  },
  {
   "cell_type": "code",
   "execution_count": null,
   "id": "b5558424-fc54-462b-a854-8e20314d1316",
   "metadata": {},
   "outputs": [],
   "source": []
  }
 ],
 "metadata": {
  "kernelspec": {
   "display_name": "Python 3 (ipykernel)",
   "language": "python",
   "name": "python3"
  },
  "language_info": {
   "codemirror_mode": {
    "name": "ipython",
    "version": 3
   },
   "file_extension": ".py",
   "mimetype": "text/x-python",
   "name": "python",
   "nbconvert_exporter": "python",
   "pygments_lexer": "ipython3",
   "version": "3.11.9"
  }
 },
 "nbformat": 4,
 "nbformat_minor": 5
}
