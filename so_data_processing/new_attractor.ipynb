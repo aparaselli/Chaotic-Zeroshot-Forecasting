{
 "cells": [
  {
   "cell_type": "code",
   "execution_count": 7,
   "metadata": {},
   "outputs": [],
   "source": [
    "import numpy as np\n",
    "from scipy.integrate import solve_ivp\n",
    "\n",
    "# Define the Hypermodified Hindmarsh-Rose system\n",
    "def hyper_hindmarsh_rose(t, state, a=1, b=3, c=1, d=5, r=0.006, s=4, x0=-1.6, I=3.25, q=0.5, k=1.5):\n",
    "    x, y, z = state\n",
    "    dx = y - a * x**3 + b * x**2 - z + I\n",
    "    dy = c - d * x**2 - y\n",
    "    dz = r * (s * (x - x0) - z) + q * np.sin(k * y)\n",
    "    return [dx, dy, dz]\n",
    "\n",
    "# Function to sample trajectories\n",
    "def sample_trajectory(t_span=(0, 1000), dt=0.1, init_range=(-2, 2), params=None):\n",
    "    # Random initial conditions\n",
    "    init_state = np.random.uniform(init_range[0], init_range[1], size=3)\n",
    "\n",
    "    # Time points\n",
    "    t_eval = np.arange(t_span[0], t_span[1], dt)\n",
    "\n",
    "    # Parameter handling\n",
    "    params = params or {}\n",
    "\n",
    "    # Solve ODE\n",
    "    sol = solve_ivp(hyper_hindmarsh_rose, t_span, init_state, t_eval=t_eval, args=tuple(params.get(k, v) for k, v in [\n",
    "        ('a', 1), ('b', 3), ('c', 1), ('d', 5), ('r', 0.006), ('s', 4), ('x0', -1.6), ('I', 3.25), ('q', 0.5), ('k', 1.5)\n",
    "    ]))\n",
    "\n",
    "    return sol.t, sol.y\n",
    "\n",
    "# Example usage\n",
    "t, trajectory = sample_trajectory()\n",
    "\n",
    "# t contains the time steps\n",
    "# trajectory is a (3, N) array for x, y, z\n"
   ]
  },
  {
   "cell_type": "code",
   "execution_count": 9,
   "metadata": {},
   "outputs": [
    {
     "data": {
      "text/plain": [
       "array([[-1.63936108, -0.82165088, -0.45168973, ..., -0.66715543,\n",
       "        -0.84487118, -0.90443301],\n",
       "       [-1.6474318 , -2.04412529, -1.94160754, ..., -7.5534098 ,\n",
       "        -7.02311984, -6.62961629],\n",
       "       [-0.99749408, -1.00805133, -1.01131662, ..., -0.02910254,\n",
       "         0.02144237,  0.05862369]])"
      ]
     },
     "execution_count": 9,
     "metadata": {},
     "output_type": "execute_result"
    }
   ],
   "source": [
    "trajectory"
   ]
  },
  {
   "cell_type": "code",
   "execution_count": 10,
   "metadata": {},
   "outputs": [],
   "source": [
    "import pandas as pd"
   ]
  },
  {
   "cell_type": "code",
   "execution_count": 28,
   "metadata": {},
   "outputs": [],
   "source": [
    "# Build the data as a list of lists\n",
    "data = [\n",
    "    [f'hyper_x{i}', str(trajectory[i, :576].tolist())]\n",
    "    for i in range(3)\n",
    "]\n",
    "\n",
    "# Create DataFrame\n",
    "df = pd.DataFrame(data, columns=['variable', 'values'])\n",
    "df.to_csv('hyper_hr.csv')"
   ]
  }
 ],
 "metadata": {
  "kernelspec": {
   "display_name": "base",
   "language": "python",
   "name": "python3"
  },
  "language_info": {
   "codemirror_mode": {
    "name": "ipython",
    "version": 3
   },
   "file_extension": ".py",
   "mimetype": "text/x-python",
   "name": "python",
   "nbconvert_exporter": "python",
   "pygments_lexer": "ipython3",
   "version": "3.10.8"
  }
 },
 "nbformat": 4,
 "nbformat_minor": 2
}
