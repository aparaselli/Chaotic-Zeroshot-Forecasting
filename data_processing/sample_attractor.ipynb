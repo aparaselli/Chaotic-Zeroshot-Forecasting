{
 "cells": [
  {
   "cell_type": "markdown",
   "metadata": {},
   "source": [
    "this notebook is used to:\n",
    "- sample data from attractor_data.csv\n",
    "- save them as arrow files"
   ]
  },
  {
   "cell_type": "code",
   "execution_count": 1,
   "metadata": {},
   "outputs": [],
   "source": [
    "import pandas as pd\n",
    "import matplotlib.pyplot as plt\n",
    "\n",
    "data = pd.read_csv('../attractor_data.csv')"
   ]
  },
  {
   "cell_type": "code",
   "execution_count": 2,
   "metadata": {},
   "outputs": [],
   "source": [
    "aizawax0 = eval(data[data['attractor'] == 'Aizawa_x_0']['values'].values[0])"
   ]
  },
  {
   "cell_type": "code",
   "execution_count": 35,
   "metadata": {},
   "outputs": [],
   "source": [
    "def get_sample_parameter(seq_length = 512 + 64):\n",
    "    \"\"\"\n",
    "    returns:\n",
    "    - a random starting timestep t\n",
    "    - a random step size between 60 - 120\n",
    "\n",
    "    guarantees that t + 816 * step size < 324800\n",
    "    324800 is the total timesteps we have for each attractor\n",
    "    \"\"\"\n",
    "\n",
    "    import random\n",
    "    max_index = 324800 - 1\n",
    "    random_start_index = int(random.random() * 278820)\n",
    "\n",
    "    # remaining = max_index - random_start_index\n",
    "    max_step_size = 200\n",
    "    min_step_size = 80\n",
    "\n",
    "    random_step_size = min_step_size + int(random.random() * (max_step_size - min_step_size))\n",
    "\n",
    "    return random_start_index, random_step_size"
   ]
  },
  {
   "cell_type": "code",
   "execution_count": 58,
   "metadata": {},
   "outputs": [
    {
     "data": {
      "text/plain": [
       "(2984, 98)"
      ]
     },
     "execution_count": 58,
     "metadata": {},
     "output_type": "execute_result"
    }
   ],
   "source": [
    "get_sample_parameter()"
   ]
  },
  {
   "cell_type": "code",
   "execution_count": 7,
   "metadata": {},
   "outputs": [],
   "source": [
    "fp = 'dysts_dataset_generation_notes.csv'"
   ]
  },
  {
   "cell_type": "code",
   "execution_count": 64,
   "metadata": {},
   "outputs": [],
   "source": [
    "# from Convert_to_arrow.py\n",
    "\n",
    "from pathlib import Path\n",
    "from typing import List, Union\n",
    "\n",
    "import numpy as np\n",
    "from gluonts.dataset.arrow import ArrowWriter\n",
    "\n",
    "\n",
    "def convert_to_arrow(\n",
    "    path: Union[str, Path],\n",
    "    time_series: Union[List[np.ndarray], np.ndarray],\n",
    "    compression: str = \"lz4\",\n",
    "):\n",
    "    \"\"\"\n",
    "    Store a given set of series into Arrow format at the specified path.\n",
    "\n",
    "    Input data can be either a list of 1D numpy arrays, or a single 2D\n",
    "    numpy array of shape (num_series, time_length).\n",
    "    \"\"\"\n",
    "    assert isinstance(time_series, list) or (\n",
    "        isinstance(time_series, np.ndarray) and\n",
    "        time_series.ndim == 2\n",
    "    )\n",
    "\n",
    "    # Set an arbitrary start time\n",
    "    start = np.datetime64(\"2000-01-01 00:00\", \"s\")\n",
    "\n",
    "    dataset = [\n",
    "        {\"start\": start, \"target\": ts} for ts in time_series\n",
    "    ]\n",
    "\n",
    "    ArrowWriter(compression=compression).write_to_file(\n",
    "        dataset,\n",
    "        path=path,\n",
    "    )"
   ]
  },
  {
   "cell_type": "code",
   "execution_count": 70,
   "metadata": {},
   "outputs": [],
   "source": [
    "import os\n",
    "\n",
    "seq_length = 512 + 64\n",
    "\n",
    "lst = []\n",
    "# sample 20 time series from each row in attractor_data.csv\n",
    "for i in range(len(data)):\n",
    "    series_name = data.iloc[i, 0]\n",
    "    full_ts = eval(data.iloc[i, 1])\n",
    "    for _ in range(20):\n",
    "        # sample start index, time step\n",
    "        start_index, step_size = get_sample_parameter()\n",
    "        with open(fp, 'a') as csv:\n",
    "            csv.write(f'{start_index},{step_size}\\n')\n",
    "        lst.append(full_ts[start_index:step_size * seq_length + start_index:step_size])\n",
    "        # print(start_index, step_size)\n",
    "convert_to_arrow(f'..\\Data\\dysts_arrow.arrow', lst)\n"
   ]
  },
  {
   "cell_type": "code",
   "execution_count": 71,
   "metadata": {},
   "outputs": [
    {
     "data": {
      "text/plain": [
       "486"
      ]
     },
     "execution_count": 71,
     "metadata": {},
     "output_type": "execute_result"
    }
   ],
   "source": [
    "len(data)"
   ]
  },
  {
   "cell_type": "code",
   "execution_count": null,
   "metadata": {},
   "outputs": [],
   "source": []
  }
 ],
 "metadata": {
  "kernelspec": {
   "display_name": "151b",
   "language": "python",
   "name": "python3"
  },
  "language_info": {
   "codemirror_mode": {
    "name": "ipython",
    "version": 3
   },
   "file_extension": ".py",
   "mimetype": "text/x-python",
   "name": "python",
   "nbconvert_exporter": "python",
   "pygments_lexer": "ipython3",
   "version": "3.10.16"
  }
 },
 "nbformat": 4,
 "nbformat_minor": 2
}
