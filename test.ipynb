{
 "cells": [
  {
   "cell_type": "code",
   "execution_count": 9,
   "metadata": {},
   "outputs": [
    {
     "name": "stdout",
     "output_type": "stream",
     "text": [
      "Requirement already satisfied: chronos-forecasting in /opt/miniconda3/envs/ChronosHAB/lib/python3.12/site-packages (1.5.0)\n",
      "Requirement already satisfied: accelerate<1,>=0.32 in /opt/miniconda3/envs/ChronosHAB/lib/python3.12/site-packages (from chronos-forecasting) (0.34.2)\n",
      "Requirement already satisfied: torch<3,>=2.0 in /opt/miniconda3/envs/ChronosHAB/lib/python3.12/site-packages (from chronos-forecasting) (2.5.1)\n",
      "Requirement already satisfied: transformers<4.48,>=4.30 in /opt/miniconda3/envs/ChronosHAB/lib/python3.12/site-packages (from chronos-forecasting) (4.47.1)\n",
      "Requirement already satisfied: numpy<3.0.0,>=1.17 in /opt/miniconda3/envs/ChronosHAB/lib/python3.12/site-packages (from accelerate<1,>=0.32->chronos-forecasting) (1.26.4)\n",
      "Requirement already satisfied: packaging>=20.0 in /opt/miniconda3/envs/ChronosHAB/lib/python3.12/site-packages (from accelerate<1,>=0.32->chronos-forecasting) (24.2)\n",
      "Requirement already satisfied: psutil in /opt/miniconda3/envs/ChronosHAB/lib/python3.12/site-packages (from accelerate<1,>=0.32->chronos-forecasting) (5.9.0)\n",
      "Requirement already satisfied: pyyaml in /Users/athulithparaselli/.local/lib/python3.12/site-packages (from accelerate<1,>=0.32->chronos-forecasting) (6.0.2)\n",
      "Requirement already satisfied: huggingface-hub>=0.21.0 in /opt/miniconda3/envs/ChronosHAB/lib/python3.12/site-packages (from accelerate<1,>=0.32->chronos-forecasting) (0.28.1)\n",
      "Requirement already satisfied: safetensors>=0.4.3 in /opt/miniconda3/envs/ChronosHAB/lib/python3.12/site-packages (from accelerate<1,>=0.32->chronos-forecasting) (0.5.2)\n",
      "Requirement already satisfied: filelock in /opt/miniconda3/envs/ChronosHAB/lib/python3.12/site-packages (from torch<3,>=2.0->chronos-forecasting) (3.13.1)\n",
      "Requirement already satisfied: typing-extensions>=4.8.0 in /Users/athulithparaselli/.local/lib/python3.12/site-packages (from torch<3,>=2.0->chronos-forecasting) (4.12.2)\n",
      "Requirement already satisfied: networkx in /opt/miniconda3/envs/ChronosHAB/lib/python3.12/site-packages (from torch<3,>=2.0->chronos-forecasting) (3.4.2)\n",
      "Requirement already satisfied: jinja2 in /Users/athulithparaselli/.local/lib/python3.12/site-packages (from torch<3,>=2.0->chronos-forecasting) (3.1.4)\n",
      "Requirement already satisfied: fsspec in /opt/miniconda3/envs/ChronosHAB/lib/python3.12/site-packages (from torch<3,>=2.0->chronos-forecasting) (2024.12.0)\n",
      "Requirement already satisfied: setuptools in /opt/miniconda3/envs/ChronosHAB/lib/python3.12/site-packages (from torch<3,>=2.0->chronos-forecasting) (72.1.0)\n",
      "Requirement already satisfied: sympy!=1.13.2,>=1.13.1 in /opt/miniconda3/envs/ChronosHAB/lib/python3.12/site-packages (from torch<3,>=2.0->chronos-forecasting) (1.13.3)\n",
      "Requirement already satisfied: regex!=2019.12.17 in /opt/miniconda3/envs/ChronosHAB/lib/python3.12/site-packages (from transformers<4.48,>=4.30->chronos-forecasting) (2024.11.6)\n",
      "Requirement already satisfied: requests in /opt/miniconda3/envs/ChronosHAB/lib/python3.12/site-packages (from transformers<4.48,>=4.30->chronos-forecasting) (2.32.3)\n",
      "Requirement already satisfied: tokenizers<0.22,>=0.21 in /opt/miniconda3/envs/ChronosHAB/lib/python3.12/site-packages (from transformers<4.48,>=4.30->chronos-forecasting) (0.21.0)\n",
      "Requirement already satisfied: tqdm>=4.27 in /opt/miniconda3/envs/ChronosHAB/lib/python3.12/site-packages (from transformers<4.48,>=4.30->chronos-forecasting) (4.67.1)\n",
      "Requirement already satisfied: mpmath<1.4,>=1.1.0 in /opt/miniconda3/envs/ChronosHAB/lib/python3.12/site-packages (from sympy!=1.13.2,>=1.13.1->torch<3,>=2.0->chronos-forecasting) (1.3.0)\n",
      "Requirement already satisfied: MarkupSafe>=2.0 in /Users/athulithparaselli/.local/lib/python3.12/site-packages (from jinja2->torch<3,>=2.0->chronos-forecasting) (2.1.5)\n",
      "Requirement already satisfied: charset-normalizer<4,>=2 in /opt/miniconda3/envs/ChronosHAB/lib/python3.12/site-packages (from requests->transformers<4.48,>=4.30->chronos-forecasting) (3.4.1)\n",
      "Requirement already satisfied: idna<4,>=2.5 in /opt/miniconda3/envs/ChronosHAB/lib/python3.12/site-packages (from requests->transformers<4.48,>=4.30->chronos-forecasting) (3.10)\n",
      "Requirement already satisfied: urllib3<3,>=1.21.1 in /opt/miniconda3/envs/ChronosHAB/lib/python3.12/site-packages (from requests->transformers<4.48,>=4.30->chronos-forecasting) (2.3.0)\n",
      "Requirement already satisfied: certifi>=2017.4.17 in /opt/miniconda3/envs/ChronosHAB/lib/python3.12/site-packages (from requests->transformers<4.48,>=4.30->chronos-forecasting) (2025.1.31)\n"
     ]
    }
   ],
   "source": [
    "!pip install chronos-forecasting\n",
    "import pandas as pd  # requires: pip install pandas\n",
    "import numpy as np\n",
    "import torch\n",
    "from chronos import BaseChronosPipeline\n",
    "import matplotlib.pyplot as plt"
   ]
  },
  {
   "cell_type": "markdown",
   "metadata": {},
   "source": [
    "# Testing base chronos model on Chaotic Systems"
   ]
  },
  {
   "cell_type": "markdown",
   "metadata": {},
   "source": [
    "- Chronos outputs am evenly spaced quantile prediction at {0.1, 0.2, ... 0.9}\n",
    "- WqL: input all quantiles -> outputs a loss value\n",
    "- MASE: input a single quantile (standardize at 0.5) -> outputs a loss value"
   ]
  },
  {
   "cell_type": "code",
   "execution_count": 19,
   "metadata": {},
   "outputs": [],
   "source": [
    "#WQL FUNCTION (Sourced from chatGPT)\n",
    "\n",
    "\n",
    "def quantile_loss(y_true, y_pred, alpha):\n",
    "    \"\"\"\n",
    "    Computes quantile loss for a given quantile level alpha.\n",
    "    \n",
    "    Parameters:\n",
    "    - y_true: True values (numpy array of shape (N,))\n",
    "    - y_pred: Predicted quantile values (numpy array of shape (N,))\n",
    "    - alpha: Quantile level (scalar)\n",
    "\n",
    "    Returns:\n",
    "    - Quantile loss (scalar)\n",
    "    \"\"\"\n",
    "    diff = y_true - y_pred\n",
    "    return np.maximum(alpha * diff, (alpha - 1) * diff).mean()\n",
    "\n",
    "def weighted_quantile_loss(y_true, y_pred_quantiles, quantile_levels):\n",
    "    \"\"\"\n",
    "    Computes the Weighted Quantile Loss (WQL) with the modified shape of predictions.\n",
    "\n",
    "    Parameters:\n",
    "    - y_true: True values (numpy array of shape (N,))\n",
    "    - y_pred_quantiles: Predicted quantiles (numpy array of shape (K, N), where K is the number of quantiles)\n",
    "    - quantile_levels: List or array of quantile levels (K,)\n",
    "\n",
    "    Returns:\n",
    "    - Weighted Quantile Loss (scalar)\n",
    "    \"\"\"\n",
    "    assert y_pred_quantiles.shape[0] == len(quantile_levels), \"Mismatch in quantile dimensions\"\n",
    "\n",
    "    # Compute WQL for each quantile\n",
    "    wql_per_quantile = [\n",
    "        (2 * quantile_loss(y_true, y_pred_quantiles[j, :], alpha)) / np.abs(y_true).sum()\n",
    "        for j, alpha in enumerate(quantile_levels)\n",
    "    ]\n",
    "    \n",
    "    # Final WQL (mean over quantiles)\n",
    "    return np.mean(wql_per_quantile)"
   ]
  },
  {
   "cell_type": "code",
   "execution_count": 16,
   "metadata": {},
   "outputs": [],
   "source": [
    "#MASE \n",
    "def mase(y_true, y_pred, y_past, S):\n",
    "    \"\"\"\n",
    "    Computes the Mean Absolute Scaled Error (MASE) based on the provided formula.\n",
    "\n",
    "    Parameters:\n",
    "    - y_true: Actual values (numpy array of shape (H,))\n",
    "    - y_pred: Predicted values (numpy array of shape (H,))\n",
    "    - y_past: Historical values (numpy array of shape (C,)) for computing seasonal naive MAE\n",
    "    - S: Seasonality parameter (integer)\n",
    "\n",
    "    Returns:\n",
    "    - MASE score (scalar)\n",
    "    \"\"\"\n",
    "    C = len(y_past)  # Context length\n",
    "    H = len(y_true)  # Prediction horizon\n",
    "\n",
    "    # Compute the numerator (MAE of forecast)\n",
    "    numerator = np.sum(np.abs(y_pred - y_true)) / H\n",
    "\n",
    "    # Compute the denominator (MAE of seasonal naive forecast)\n",
    "    denominator = np.sum(np.abs(y_past[:-S] - y_past[S:])) / (C - S)\n",
    "\n",
    "    return numerator / denominator if denominator != 0 else np.inf"
   ]
  },
  {
   "cell_type": "code",
   "execution_count": 2,
   "metadata": {},
   "outputs": [
    {
     "name": "stderr",
     "output_type": "stream",
     "text": [
      "Passing a tuple of `past_key_values` is deprecated and will be removed in Transformers v4.48.0. You should pass an instance of `EncoderDecoderCache` instead, e.g. `past_key_values=EncoderDecoderCache.from_legacy_cache(past_key_values)`.\n"
     ]
    }
   ],
   "source": [
    "pipeline = BaseChronosPipeline.from_pretrained(\n",
    "    \"amazon/chronos-bolt-mini\",\n",
    "    device_map=\"cpu\",  # use \"cpu\" for CPU inference and \"mps\" for Apple Silicon\n",
    "    torch_dtype=torch.bfloat16,\n",
    ")\n",
    "\n",
    "df = pd.read_csv(\n",
    "    \"https://raw.githubusercontent.com/AileenNielsen/TimeSeriesAnalysisWithPython/master/data/AirPassengers.csv\"\n",
    ")\n",
    "\n",
    "# context must be either a 1D tensor, a list of 1D tensors,\n",
    "# or a left-padded 2D tensor with batch as the first dimension\n",
    "# Chronos-Bolt models generate quantile forecasts, so forecast has shape\n",
    "# [num_series, num_quantiles, prediction_length].\n",
    "forecast = pipeline.predict(\n",
    "    context=torch.tensor(df[\"#Passengers\"].iloc[:-12]), prediction_length=12\n",
    ")"
   ]
  },
  {
   "cell_type": "code",
   "execution_count": 27,
   "metadata": {},
   "outputs": [
    {
     "data": {
      "text/html": [
       "<div>\n",
       "<style scoped>\n",
       "    .dataframe tbody tr th:only-of-type {\n",
       "        vertical-align: middle;\n",
       "    }\n",
       "\n",
       "    .dataframe tbody tr th {\n",
       "        vertical-align: top;\n",
       "    }\n",
       "\n",
       "    .dataframe thead th {\n",
       "        text-align: right;\n",
       "    }\n",
       "</style>\n",
       "<table border=\"1\" class=\"dataframe\">\n",
       "  <thead>\n",
       "    <tr style=\"text-align: right;\">\n",
       "      <th></th>\n",
       "      <th>Month</th>\n",
       "      <th>#Passengers</th>\n",
       "    </tr>\n",
       "  </thead>\n",
       "  <tbody>\n",
       "    <tr>\n",
       "      <th>0</th>\n",
       "      <td>1949-01</td>\n",
       "      <td>112</td>\n",
       "    </tr>\n",
       "    <tr>\n",
       "      <th>1</th>\n",
       "      <td>1949-02</td>\n",
       "      <td>118</td>\n",
       "    </tr>\n",
       "    <tr>\n",
       "      <th>2</th>\n",
       "      <td>1949-03</td>\n",
       "      <td>132</td>\n",
       "    </tr>\n",
       "    <tr>\n",
       "      <th>3</th>\n",
       "      <td>1949-04</td>\n",
       "      <td>129</td>\n",
       "    </tr>\n",
       "    <tr>\n",
       "      <th>4</th>\n",
       "      <td>1949-05</td>\n",
       "      <td>121</td>\n",
       "    </tr>\n",
       "    <tr>\n",
       "      <th>...</th>\n",
       "      <td>...</td>\n",
       "      <td>...</td>\n",
       "    </tr>\n",
       "    <tr>\n",
       "      <th>139</th>\n",
       "      <td>1960-08</td>\n",
       "      <td>606</td>\n",
       "    </tr>\n",
       "    <tr>\n",
       "      <th>140</th>\n",
       "      <td>1960-09</td>\n",
       "      <td>508</td>\n",
       "    </tr>\n",
       "    <tr>\n",
       "      <th>141</th>\n",
       "      <td>1960-10</td>\n",
       "      <td>461</td>\n",
       "    </tr>\n",
       "    <tr>\n",
       "      <th>142</th>\n",
       "      <td>1960-11</td>\n",
       "      <td>390</td>\n",
       "    </tr>\n",
       "    <tr>\n",
       "      <th>143</th>\n",
       "      <td>1960-12</td>\n",
       "      <td>432</td>\n",
       "    </tr>\n",
       "  </tbody>\n",
       "</table>\n",
       "<p>144 rows × 2 columns</p>\n",
       "</div>"
      ],
      "text/plain": [
       "       Month  #Passengers\n",
       "0    1949-01          112\n",
       "1    1949-02          118\n",
       "2    1949-03          132\n",
       "3    1949-04          129\n",
       "4    1949-05          121\n",
       "..       ...          ...\n",
       "139  1960-08          606\n",
       "140  1960-09          508\n",
       "141  1960-10          461\n",
       "142  1960-11          390\n",
       "143  1960-12          432\n",
       "\n",
       "[144 rows x 2 columns]"
      ]
     },
     "execution_count": 27,
     "metadata": {},
     "output_type": "execute_result"
    }
   ],
   "source": [
    "df"
   ]
  },
  {
   "cell_type": "code",
   "execution_count": 26,
   "metadata": {},
   "outputs": [
    {
     "data": {
      "text/plain": [
       "[<matplotlib.lines.Line2D at 0x173bf2000>]"
      ]
     },
     "execution_count": 26,
     "metadata": {},
     "output_type": "execute_result"
    },
    {
     "data": {
      "image/png": "[encoded data removed]",
      "text/plain": [
       "<Figure size 640x480 with 1 Axes>"
      ]
     },
     "metadata": {},
     "output_type": "display_data"
    }
   ],
   "source": [
    "plt.plot(forecast[0][4],label='forecast')\n",
    "plt.plot(df[\"#Passengers\"].iloc[-12:].to_numpy())"
   ]
  },
  {
   "cell_type": "code",
   "execution_count": 22,
   "metadata": {},
   "outputs": [
    {
     "data": {
      "text/plain": [
       "0.002806450351724039"
      ]
     },
     "execution_count": 22,
     "metadata": {},
     "output_type": "execute_result"
    }
   ],
   "source": [
    "quantiles = [0.1,0.2,0.3,0.4,0.5,0.6,0.7,0.8,0.9]\n",
    "weighted_quantile_loss(df[\"#Passengers\"].iloc[-12:].to_numpy(), forecast[0].numpy(), quantiles)"
   ]
  },
  {
   "cell_type": "code",
   "execution_count": 32,
   "metadata": {},
   "outputs": [
    {
     "data": {
      "text/plain": [
       "0.6404895500596521"
      ]
     },
     "execution_count": 32,
     "metadata": {},
     "output_type": "execute_result"
    }
   ],
   "source": [
    "mase(df[\"#Passengers\"].iloc[-12:].to_numpy(), forecast[0][4].numpy(), df[\"#Passengers\"].iloc[:-12].to_numpy(), 12)"
   ]
  },
  {
   "cell_type": "code",
   "execution_count": null,
   "metadata": {},
   "outputs": [],
   "source": []
  }
 ],
 "metadata": {
  "kernelspec": {
   "display_name": "chronosHAB",
   "language": "python",
   "name": "python3"
  },
  "language_info": {
   "codemirror_mode": {
    "name": "ipython",
    "version": 3
   },
   "file_extension": ".py",
   "mimetype": "text/x-python",
   "name": "python",
   "nbconvert_exporter": "python",
   "pygments_lexer": "ipython3",
   "version": "3.12.9"
  }
 },
 "nbformat": 4,
 "nbformat_minor": 2
}
